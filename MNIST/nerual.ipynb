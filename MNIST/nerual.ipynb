{
 "cells": [
  {
   "cell_type": "code",
   "execution_count": 1,
   "metadata": {},
   "outputs": [],
   "source": [
    "import numpy as np\n",
    "import scipy.special\n",
    "import matplotlib.pyplot\n",
    "%matplotlib inline"
   ]
  },
  {
   "cell_type": "code",
   "execution_count": 2,
   "metadata": {},
   "outputs": [],
   "source": [
    "# 定义一个class\n",
    "class NeuralNetwork:\n",
    "    def __init__(self,inputnodes,hiddennodes,outputnodes,learningrate) -> None:\n",
    "        self.inodes = inputnodes\n",
    "        self.onodes = outputnodes\n",
    "        self.hnodes = hiddennodes\n",
    "\n",
    "        # layers\n",
    "        # i -> h -> o\n",
    "        self.wih = np.random.normal(0.0,pow(self.inodes, -0.5),(self.hnodes,self.inodes))\n",
    "        self.who = np.random.normal(0.0,pow(self.hnodes, -0.5),(self.onodes,self.hnodes))\n",
    "\n",
    "        # 学习曲线\n",
    "        self.lr = learningrate\n",
    "\n",
    "        # 激活函数\n",
    "        self.actfunc = lambda x:scipy.special.expit(x)\n",
    "\n",
    "        pass\n",
    "\n",
    "    def train(self,inputs_list,targets_list):\n",
    "        # 将输入数据 转换为二维矩阵\n",
    "        inputs = np.array(inputs_list,ndmin=2).T\n",
    "        targets = np.array(targets_list,ndmin=2).T\n",
    "\n",
    "        # 权重计算\n",
    "        hidden_inputs = np.dot(self.wih,inputs)\n",
    "        # 激活函数\n",
    "        hidden_outputs = self.actfunc(hidden_inputs)\n",
    "\n",
    "        final_inputs = np.dot(self.who,hidden_outputs)\n",
    "        final_outputs = self.actfunc(final_inputs)\n",
    "\n",
    "        output_errors = targets - final_outputs\n",
    "        hidden_errors = np.dot(self.who.T,output_errors)\n",
    "\n",
    "        # 更新权重\n",
    "        self.who += self.lr * np.dot((output_errors * final_outputs * (1.0 - final_outputs)),np.transpose(hidden_outputs))\n",
    "        self.wih += self.lr * np.dot((hidden_errors * hidden_outputs * (1.0 - hidden_outputs)),np.transpose(inputs))\n",
    "    \n",
    "        pass\n",
    "\n",
    "\n",
    "    def quary(self,input_list):\n",
    "        inputs = np.array(input_list,ndmin=2).T\n",
    "        # 将输入的input 转化为2维度\n",
    "\n",
    "        # 计算进入hidden的信号\n",
    "        hidden_inputs = np.dot(self.wih,inputs)\n",
    "        # 计算从hidden出来的信号 激活函数\n",
    "        hidden_outputs = self.actfunc(hidden_inputs)\n",
    "\n",
    "        # 计算最终进去output的信号\n",
    "        final_inputs = np.dot(self.who,hidden_outputs)\n",
    "        final_outputs = self.actfunc(final_inputs)\n",
    "\n",
    "        return final_outputs\n",
    "\n"
   ]
  },
  {
   "cell_type": "code",
   "execution_count": 3,
   "metadata": {},
   "outputs": [],
   "source": [
    "input_nodes = 784\n",
    "hidden_nodes = 200\n",
    "output_nodes = 10\n",
    "\n",
    "learning_rate = 0.1\n",
    "\n",
    "n = NeuralNetwork(input_nodes,hidden_nodes,output_nodes,learning_rate)\n",
    "# 创建神经网络 "
   ]
  },
  {
   "cell_type": "code",
   "execution_count": 4,
   "metadata": {},
   "outputs": [],
   "source": [
    "# 载入数据\n",
    "training_data_file = open(\"mnist_dataset/mnist_train_100.csv\",'r')\n",
    "training_data_list = training_data_file.readlines()\n",
    "training_data_file.close()"
   ]
  },
  {
   "cell_type": "code",
   "execution_count": 5,
   "metadata": {},
   "outputs": [],
   "source": [
    "# 循环时间\n",
    "epochs = 5\n",
    "\n",
    "for e in range(epochs):\n",
    "    for record in training_data_list:\n",
    "        all_value = record.split(',')\n",
    "\n",
    "        inputs = (np.asfarray(all_value[1:]) / 255.0 * 0.99) + 0.01\n",
    "        targets = np.zeros(output_nodes) + 0.01\n",
    "\n",
    "        # 标签标志为0.99 用来后序\n",
    "        targets[int(all_value[0])] = 0.99\n",
    "\n",
    "        n.train(inputs,targets)\n",
    "\n",
    "        pass\n",
    "    pass\n",
    "\n",
    "\n"
   ]
  },
  {
   "cell_type": "code",
   "execution_count": 6,
   "metadata": {},
   "outputs": [
    {
     "data": {
      "text/plain": [
       "'7,0,0,0,0,0,0,0,0,0,0,0,0,0,0,0,0,0,0,0,0,0,0,0,0,0,0,0,0,0,0,0,0,0,0,0,0,0,0,0,0,0,0,0,0,0,0,0,0,0,0,0,0,0,0,0,0,0,0,0,0,0,0,0,0,0,0,0,0,0,0,0,0,0,0,0,0,0,0,0,0,0,0,0,0,0,0,0,0,0,0,0,0,0,0,0,0,0,0,0,0,0,0,0,0,0,0,0,0,0,0,0,0,0,0,0,0,0,0,0,0,0,0,0,0,0,0,0,0,0,0,0,0,0,0,0,0,0,0,0,0,0,0,0,0,0,0,0,0,0,0,0,0,0,0,0,0,0,0,0,0,0,0,0,0,0,0,0,0,0,0,0,0,0,0,0,0,0,0,0,0,0,0,0,0,0,0,0,0,0,0,0,0,0,0,0,0,0,0,0,0,0,0,84,185,159,151,60,36,0,0,0,0,0,0,0,0,0,0,0,0,0,0,0,0,0,0,0,0,0,0,222,254,254,254,254,241,198,198,198,198,198,198,198,198,170,52,0,0,0,0,0,0,0,0,0,0,0,0,67,114,72,114,163,227,254,225,254,254,254,250,229,254,254,140,0,0,0,0,0,0,0,0,0,0,0,0,0,0,0,0,0,17,66,14,67,67,67,59,21,236,254,106,0,0,0,0,0,0,0,0,0,0,0,0,0,0,0,0,0,0,0,0,0,0,0,0,83,253,209,18,0,0,0,0,0,0,0,0,0,0,0,0,0,0,0,0,0,0,0,0,0,0,0,22,233,255,83,0,0,0,0,0,0,0,0,0,0,0,0,0,0,0,0,0,0,0,0,0,0,0,0,129,254,238,44,0,0,0,0,0,0,0,0,0,0,0,0,0,0,0,0,0,0,0,0,0,0,0,59,249,254,62,0,0,0,0,0,0,0,0,0,0,0,0,0,0,0,0,0,0,0,0,0,0,0,0,133,254,187,5,0,0,0,0,0,0,0,0,0,0,0,0,0,0,0,0,0,0,0,0,0,0,0,9,205,248,58,0,0,0,0,0,0,0,0,0,0,0,0,0,0,0,0,0,0,0,0,0,0,0,0,126,254,182,0,0,0,0,0,0,0,0,0,0,0,0,0,0,0,0,0,0,0,0,0,0,0,0,75,251,240,57,0,0,0,0,0,0,0,0,0,0,0,0,0,0,0,0,0,0,0,0,0,0,0,19,221,254,166,0,0,0,0,0,0,0,0,0,0,0,0,0,0,0,0,0,0,0,0,0,0,0,3,203,254,219,35,0,0,0,0,0,0,0,0,0,0,0,0,0,0,0,0,0,0,0,0,0,0,0,38,254,254,77,0,0,0,0,0,0,0,0,0,0,0,0,0,0,0,0,0,0,0,0,0,0,0,31,224,254,115,1,0,0,0,0,0,0,0,0,0,0,0,0,0,0,0,0,0,0,0,0,0,0,0,133,254,254,52,0,0,0,0,0,0,0,0,0,0,0,0,0,0,0,0,0,0,0,0,0,0,0,61,242,254,254,52,0,0,0,0,0,0,0,0,0,0,0,0,0,0,0,0,0,0,0,0,0,0,0,121,254,254,219,40,0,0,0,0,0,0,0,0,0,0,0,0,0,0,0,0,0,0,0,0,0,0,0,121,254,207,18,0,0,0,0,0,0,0,0,0,0,0,0,0,0,0,0,0,0,0,0,0,0,0,0,0,0,0,0,0,0,0,0,0,0,0,0,0,0,0,0,0,0\\n'"
      ]
     },
     "execution_count": 6,
     "metadata": {},
     "output_type": "execute_result"
    }
   ],
   "source": [
    "test_data_file = open(\"mnist_dataset/mnist_test_10.csv\",'r')\n",
    "test_data_list = test_data_file.readlines()\n",
    "test_data_file.close()\n",
    "test_data_list[0]"
   ]
  },
  {
   "cell_type": "code",
   "execution_count": 7,
   "metadata": {},
   "outputs": [
    {
     "name": "stdout",
     "output_type": "stream",
     "text": [
      "[[0.09874471]\n",
      " [0.03184192]\n",
      " [0.0591251 ]\n",
      " [0.09143815]\n",
      " [0.09861322]\n",
      " [0.04022069]\n",
      " [0.01350844]\n",
      " [0.68462642]\n",
      " [0.081803  ]\n",
      " [0.08425004]]\n",
      "7\n",
      "[[0.32377486]\n",
      " [0.07149042]\n",
      " [0.23483747]\n",
      " [0.20096306]\n",
      " [0.01524083]\n",
      " [0.0536187 ]\n",
      " [0.24284372]\n",
      " [0.03238489]\n",
      " [0.11235912]\n",
      " [0.01115807]]\n",
      "0\n",
      "[[0.02149593]\n",
      " [0.87075152]\n",
      " [0.05458266]\n",
      " [0.10894422]\n",
      " [0.06083903]\n",
      " [0.09270003]\n",
      " [0.07102028]\n",
      " [0.12028893]\n",
      " [0.1157691 ]\n",
      " [0.03803961]]\n",
      "1\n",
      "[[0.69305248]\n",
      " [0.01197605]\n",
      " [0.06546019]\n",
      " [0.03056073]\n",
      " [0.03053049]\n",
      " [0.0245342 ]\n",
      " [0.12089014]\n",
      " [0.17571645]\n",
      " [0.03584329]\n",
      " [0.01161184]]\n",
      "0\n",
      "[[0.05992848]\n",
      " [0.01893805]\n",
      " [0.07843561]\n",
      " [0.0743467 ]\n",
      " [0.72086254]\n",
      " [0.03755602]\n",
      " [0.04911851]\n",
      " [0.33169019]\n",
      " [0.05431564]\n",
      " [0.04076954]]\n",
      "4\n",
      "[[0.01670084]\n",
      " [0.89831827]\n",
      " [0.04659216]\n",
      " [0.10320121]\n",
      " [0.04605846]\n",
      " [0.0791075 ]\n",
      " [0.03245084]\n",
      " [0.12908818]\n",
      " [0.13362819]\n",
      " [0.03158532]]\n",
      "1\n",
      "[[0.01853993]\n",
      " [0.01851062]\n",
      " [0.04398368]\n",
      " [0.12042593]\n",
      " [0.43917363]\n",
      " [0.05376164]\n",
      " [0.04391367]\n",
      " [0.26129717]\n",
      " [0.11119809]\n",
      " [0.11681896]]\n",
      "4\n",
      "[[0.01353011]\n",
      " [0.13125753]\n",
      " [0.02799781]\n",
      " [0.18623254]\n",
      " [0.35224961]\n",
      " [0.04089309]\n",
      " [0.11640584]\n",
      " [0.10744709]\n",
      " [0.06117892]\n",
      " [0.04734161]]\n",
      "4\n",
      "[[0.08543242]\n",
      " [0.14990688]\n",
      " [0.0589374 ]\n",
      " [0.01697376]\n",
      " [0.27199532]\n",
      " [0.0631383 ]\n",
      " [0.15680257]\n",
      " [0.05089416]\n",
      " [0.08635217]\n",
      " [0.00759026]]\n",
      "4\n",
      "[[0.04433611]\n",
      " [0.02740345]\n",
      " [0.02148608]\n",
      " [0.01244902]\n",
      " [0.25107391]\n",
      " [0.03032939]\n",
      " [0.03120143]\n",
      " [0.43500001]\n",
      " [0.05214589]\n",
      " [0.11345958]]\n",
      "7\n"
     ]
    }
   ],
   "source": [
    "scorecard = []\n",
    "for record in test_data_list:\n",
    "    all_value = record.split(',')\n",
    "\n",
    "    correct_label = int(all_value[0])\n",
    "\n",
    "    inputs = (np.asfarray(all_value[1:]) / 255.0 * 0.99) + 0.01\n",
    "    outputs = n.quary(inputs)\n",
    "    print(outputs)\n",
    "    \n",
    "    label = np.argmax(outputs)\n",
    "    print(label)\n",
    "\n",
    "    if(label == correct_label):\n",
    "        scorecard.append(1)\n",
    "    else:\n",
    "        scorecard.append(0)\n",
    "    pass\n",
    "\n"
   ]
  },
  {
   "cell_type": "code",
   "execution_count": 8,
   "metadata": {},
   "outputs": [
    {
     "data": {
      "text/plain": [
       "array([1., 0., 1., 1., 1., 1., 1., 0., 0., 0.])"
      ]
     },
     "execution_count": 8,
     "metadata": {},
     "output_type": "execute_result"
    }
   ],
   "source": [
    "scorecard_array = np.asfarray(scorecard)\n",
    "scorecard_array"
   ]
  },
  {
   "cell_type": "code",
   "execution_count": 9,
   "metadata": {},
   "outputs": [
    {
     "name": "stdout",
     "output_type": "stream",
     "text": [
      "performence = 0.6\n"
     ]
    }
   ],
   "source": [
    "performence = scorecard_array.sum() / scorecard_array.size\n",
    "print(\"performence =\",performence)\n"
   ]
  }
 ],
 "metadata": {
  "kernelspec": {
   "display_name": "Python 3",
   "language": "python",
   "name": "python3"
  },
  "language_info": {
   "codemirror_mode": {
    "name": "ipython",
    "version": 3
   },
   "file_extension": ".py",
   "mimetype": "text/x-python",
   "name": "python",
   "nbconvert_exporter": "python",
   "pygments_lexer": "ipython3",
   "version": "3.10.12"
  }
 },
 "nbformat": 4,
 "nbformat_minor": 2
}
