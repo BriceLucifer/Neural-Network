{
 "cells": [
  {
   "cell_type": "markdown",
   "metadata": {},
   "source": [
    "## 两个list相互乘积没有意义"
   ]
  },
  {
   "cell_type": "code",
   "execution_count": 15,
   "metadata": {},
   "outputs": [
    {
     "name": "stdout",
     "output_type": "stream",
     "text": [
      "Python list operations:\n",
      "a+b [1, 2, 3, 4, 5, 6]\n",
      "a*b has no meaning for Python lists\n",
      "\n",
      "Numpy operations:\n",
      "a+b [5 7 9]\n",
      "a*b [ 4 10 18]\n"
     ]
    }
   ],
   "source": [
    "print(\"Python list operations:\")\n",
    "a = [1,2,3]\n",
    "b = [4,5,6]\n",
    "print(\"a+b\",a+b)\n",
    "try:\n",
    "    print(a*b)\n",
    "except TypeError:\n",
    "    print(\"a*b has no meaning for Python lists\")\n",
    "\n",
    "print()\n",
    "print(\"Numpy operations:\")\n",
    "\n",
    "import numpy as np\n",
    "a = np.array([1,2,3])\n",
    "b = np.array([4,5,6])\n",
    "print(\"a+b\",a+b)\n",
    "print(\"a*b\",a*b)\n"
   ]
  },
  {
   "cell_type": "markdown",
   "metadata": {},
   "source": [
    "## numpy array轴0是行，轴1是列"
   ]
  },
  {
   "cell_type": "code",
   "execution_count": 16,
   "metadata": {},
   "outputs": [
    {
     "name": "stdout",
     "output_type": "stream",
     "text": [
      "a: [[1 2]\n",
      " [3 4]]\n",
      "a.sum(axis = 0) : [4 6]\n",
      "a.sum(axis = 1) : [3 7]\n"
     ]
    }
   ],
   "source": [
    "a = np.array([[1,2],[3,4]])\n",
    "print(\"a:\",a)\n",
    "print(\"a.sum(axis = 0) :\",a.sum(axis=0))\n",
    "print(\"a.sum(axis = 1) :\",a.sum(axis=1))"
   ]
  },
  {
   "cell_type": "markdown",
   "metadata": {},
   "source": [
    "## 类型检查 (其实就是函数参数强类型)"
   ]
  },
  {
   "cell_type": "code",
   "execution_count": 17,
   "metadata": {},
   "outputs": [],
   "source": [
    "# 这一步必须有 不然无法识别类型\n",
    "from numpy import ndarray\n",
    "def square(x:ndarray) -> ndarray:\n",
    "    return np.power(x,2)\n",
    "\n",
    "def leaky_relu(x: ndarray) -> ndarray:\n",
    "    return np.maximum(0.2*x,x)\n"
   ]
  },
  {
   "cell_type": "code",
   "execution_count": 18,
   "metadata": {},
   "outputs": [],
   "source": [
    "from typing import Callable\n",
    "\n",
    "# 导数\n",
    "def derive(func:Callable[[ndarray],ndarray], input_:ndarray, delta: float = 0.001)->ndarray :\n",
    "    return (func(input_ + delta) - func(input_ - delta) / (2 * delta))"
   ]
  },
  {
   "cell_type": "code",
   "execution_count": null,
   "metadata": {},
   "outputs": [],
   "source": []
  }
 ],
 "metadata": {
  "kernelspec": {
   "display_name": "Python 3",
   "language": "python",
   "name": "python3"
  },
  "language_info": {
   "codemirror_mode": {
    "name": "ipython",
    "version": 3
   },
   "file_extension": ".py",
   "mimetype": "text/x-python",
   "name": "python",
   "nbconvert_exporter": "python",
   "pygments_lexer": "ipython3",
   "version": "3.12.3"
  }
 },
 "nbformat": 4,
 "nbformat_minor": 2
}
